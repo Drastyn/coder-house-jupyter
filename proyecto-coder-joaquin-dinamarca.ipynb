{
 "cells": [
  {
   "cell_type": "code",
   "execution_count": null,
   "id": "e096f8cb-2e5b-42d5-852e-82cff4608ff6",
   "metadata": {},
   "outputs": [],
   "source": [
    "import google.generativeai as genai\n",
    "\n",
    "GOOGLE_API_KEY=\"\" # Ingresar API KEY para Google Gemini entre las comillas dobles\n",
    "\n",
    "genai.configure(api_key=GOOGLE_API_KEY)\n",
    "context = \"Tu objetivo principal es, dado un concepto y un estilo, generar una descripción de un tatuaje que pueda ser introducida como prompt en un modelo texto a imagen. La descripción debe ser concreta en no más de 100 palabras y que pueda ser expresada mediante una imagen. \"\n",
    "model = genai.GenerativeModel('gemini-pro')\n",
    "\n",
    "concept = \"Gato\" # Ingrese su Concepto, ejemplo: Gato\n",
    "style   = \"Anime\" # Ingrese el Estilo deseado, ejemplo: Anime\n",
    "\n",
    "prompt = context + f\"Concepto: {concept}, Estilo: {style}\"\n",
    "response = model.generate_content(prompt).__getattribute__(\"text\")\n",
    "\n",
    "print(response)"
   ]
  },
  {
   "cell_type": "code",
   "execution_count": null,
   "id": "fa0d4f4a-eb39-44e4-98b0-371873aa059d",
   "metadata": {},
   "outputs": [],
   "source": [
    "from openai import OpenAI\n",
    "import subprocess\n",
    "import uuid\n",
    "\n",
    "OPENAI_API_KEY=\"\" # Ingresar API KEY de OpenAI entre las comillas dobles\n",
    "IMAGE_NAME = \"desing-\" + str(uuid.uuid4()) \n",
    "\n",
    "client = OpenAI(api_key=OPENAI_API_KEY)\n",
    "image = client.images.generate(\n",
    "        model=\"dall-e-3\",\n",
    "        prompt=prompt,\n",
    "        size=\"1024x1024\",\n",
    "        quality=\"standard\",\n",
    "        n=1\n",
    "    )\n",
    "\n",
    "image_url = image.data[0].url\n",
    "print(image_url)\n",
    "subprocess.run(f\"curl \\\"{image_url}\\\" -o {IMAGE_NAME}.png\", shell=\"True\")\n"
   ]
  },
  {
   "cell_type": "code",
   "execution_count": null,
   "id": "078ad5dc-6999-448b-9d57-3b5b52268f8e",
   "metadata": {},
   "outputs": [],
   "source": []
  }
 ],
 "metadata": {
  "kernelspec": {
   "display_name": "Python 3 (ipykernel)",
   "language": "python",
   "name": "python3"
  },
  "language_info": {
   "codemirror_mode": {
    "name": "ipython",
    "version": 3
   },
   "file_extension": ".py",
   "mimetype": "text/x-python",
   "name": "python",
   "nbconvert_exporter": "python",
   "pygments_lexer": "ipython3",
   "version": "3.10.14"
  }
 },
 "nbformat": 4,
 "nbformat_minor": 5
}
